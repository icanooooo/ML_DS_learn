{
 "cells": [
  {
   "cell_type": "code",
   "execution_count": 1,
   "metadata": {},
   "outputs": [],
   "source": [
    "from matplotlib import pyplot as plt\n",
    "from collections import Counter"
   ]
  },
  {
   "cell_type": "markdown",
   "metadata": {},
   "source": [
    "# Single Set of Data"
   ]
  },
  {
   "cell_type": "code",
   "execution_count": 2,
   "metadata": {},
   "outputs": [
    {
     "data": {
      "image/png": "[encoded data removed]",
      "text/plain": [
       "<Figure size 640x480 with 1 Axes>"
      ]
     },
     "metadata": {},
     "output_type": "display_data"
    }
   ],
   "source": [
    "num_of_friends = [100, 49, 41, 40, 25, 32, 40, 42, 45, 45, 71, 32, 33, 34, 34, 35, 21, 22, 22, 24, 23, 25, 18, 30, 31]\n",
    "num_friends  = [100.0,49,41,40,25,21,21,19,19,18,18,16,15,15,15,15,14,14,13,13,13,13,12,12,11,10,10,10,10,10,10,10,10,10,10,10,10,10,10,10,9,9,9,9,9,9,9,9,9,9,9,9,9,9,9,9,9,9,8,8,8,8,8,8,8,8,8,8,8,8,8,7,7,7,7,7,7,7,7,7,7,7,7,7,7,7,6,6,6,6,6,6,6,6,6,6,6,6,6,6,6,6,6,6,6,6,6,6,5,5,5,5,5,5,5,5,5,5,5,5,5,5,5,5,5,4,4,4,4,4,4,4,4,4,4,4,4,4,4,4,4,4,4,4,4,3,3,3,3,3,3,3,3,3,3,3,3,3,3,3,3,3,3,3,3,2,2,2,2,2,2,2,2,2,2,2,2,2,2,2,2,2,1,1,1,1,1,1,1,1,1,1,1,1,1,1,1,1,1,1,1,1,1,1]\n",
    "\n",
    "friends_counted = Counter(num_friends)\n",
    "xs = range(101)\n",
    "ys = [friends_counted[x] for x in xs] # buat ngekumpulin jumlah temen tiap value (1: berapa temen)\n",
    "plt.bar(xs, ys)\n",
    "plt.axis([0, 101, 0, 25])\n",
    "plt.title(\"Histogram of Friend Counts\")\n",
    "plt.xlabel(\"Friends Count\")\n",
    "plt.ylabel(\"# of people who have said friend\")\n",
    "\n",
    "plt.show()"
   ]
  },
  {
   "cell_type": "code",
   "execution_count": 3,
   "metadata": {},
   "outputs": [
    {
     "data": {
      "image/png": "[encoded data removed]",
      "text/plain": [
       "<Figure size 640x480 with 1 Axes>"
      ]
     },
     "metadata": {},
     "output_type": "display_data"
    }
   ],
   "source": [
    "# bisa juga digrouping\n",
    "\n",
    "# Note: dua dataset berbeda\n",
    "\n",
    "decile = lambda x: (x // 10) * 10\n",
    "grouped_friends = Counter(decile(x) for x in num_of_friends)\n",
    "group_of_tens = [x*10 for x in range (11)]\n",
    "ys_new = [grouped_friends[x] for x in group_of_tens]\n",
    "\n",
    "plt.bar(group_of_tens, ys_new, 10)\n",
    "plt.axis([-5, 105, 0, 25 ])\n",
    "\n",
    "plt.show()\n"
   ]
  },
  {
   "cell_type": "code",
   "execution_count": 4,
   "metadata": {},
   "outputs": [],
   "source": [
    "num_points = len(num_friends) #25 data points"
   ]
  },
  {
   "cell_type": "code",
   "execution_count": 5,
   "metadata": {},
   "outputs": [
    {
     "name": "stdout",
     "output_type": "stream",
     "text": [
      "100.0 1\n"
     ]
    }
   ],
   "source": [
    "largest_values = max(num_friends)\n",
    "smallest_values = min(num_friends)\n",
    "\n",
    "print(largest_values, smallest_values)"
   ]
  },
  {
   "cell_type": "code",
   "execution_count": 6,
   "metadata": {},
   "outputs": [
    {
     "name": "stdout",
     "output_type": "stream",
     "text": [
      "[1, 1, 1, 1, 1, 1, 1, 1, 1, 1, 1, 1, 1, 1, 1, 1, 1, 1, 1, 1, 1, 1, 2, 2, 2, 2, 2, 2, 2, 2, 2, 2, 2, 2, 2, 2, 2, 2, 2, 3, 3, 3, 3, 3, 3, 3, 3, 3, 3, 3, 3, 3, 3, 3, 3, 3, 3, 3, 3, 4, 4, 4, 4, 4, 4, 4, 4, 4, 4, 4, 4, 4, 4, 4, 4, 4, 4, 4, 4, 5, 5, 5, 5, 5, 5, 5, 5, 5, 5, 5, 5, 5, 5, 5, 5, 5, 6, 6, 6, 6, 6, 6, 6, 6, 6, 6, 6, 6, 6, 6, 6, 6, 6, 6, 6, 6, 6, 6, 7, 7, 7, 7, 7, 7, 7, 7, 7, 7, 7, 7, 7, 7, 7, 8, 8, 8, 8, 8, 8, 8, 8, 8, 8, 8, 8, 8, 9, 9, 9, 9, 9, 9, 9, 9, 9, 9, 9, 9, 9, 9, 9, 9, 9, 9, 10, 10, 10, 10, 10, 10, 10, 10, 10, 10, 10, 10, 10, 10, 10, 11, 12, 12, 13, 13, 13, 13, 14, 14, 15, 15, 15, 15, 16, 18, 18, 19, 19, 21, 21, 25, 40, 41, 49, 100.0]\n"
     ]
    }
   ],
   "source": [
    "sorted_friends = sorted(num_friends)\n",
    "\n",
    "print(sorted_friends)"
   ]
  },
  {
   "cell_type": "markdown",
   "metadata": {},
   "source": [
    "### Central Tendencies"
   ]
  },
  {
   "cell_type": "code",
   "execution_count": 7,
   "metadata": {},
   "outputs": [
    {
     "data": {
      "text/plain": [
       "7.333333333333333"
      ]
     },
     "execution_count": 7,
     "metadata": {},
     "output_type": "execute_result"
    }
   ],
   "source": [
    "def mean(x):\n",
    "    return sum(x)/len(x)\n",
    "\n",
    "mean(num_friends)"
   ]
  },
  {
   "cell_type": "code",
   "execution_count": 8,
   "metadata": {},
   "outputs": [
    {
     "data": {
      "text/plain": [
       "3.0"
      ]
     },
     "execution_count": 8,
     "metadata": {},
     "output_type": "execute_result"
    }
   ],
   "source": [
    "def median(x):\n",
    "    n = len(x)\n",
    "    sorted_x = sorted(x)\n",
    "    mid_point = n // 2\n",
    "\n",
    "    if n % 2 == 1:\n",
    "        return sorted_x[mid_point]\n",
    "    else:\n",
    "        high = mid_point\n",
    "        low = mid_point - 1\n",
    "\n",
    "        return sorted_x[high] - sorted_x[low] / 2\n",
    "    \n",
    "median(num_friends)\n"
   ]
  },
  {
   "cell_type": "code",
   "execution_count": 9,
   "metadata": {},
   "outputs": [
    {
     "name": "stdout",
     "output_type": "stream",
     "text": [
      "1 3 9 13\n"
     ]
    }
   ],
   "source": [
    "def quantile(x, p):\n",
    "    p_index = int(p * len(x))\n",
    "    return sorted(x)[p_index]\n",
    "\n",
    "a = quantile(num_friends, 0.10)\n",
    "b = quantile(num_friends, 0.25)\n",
    "c = quantile(num_friends, 0.75)\n",
    "d = quantile(num_friends, 0.90)\n",
    "\n",
    "print(a, b, c, d)"
   ]
  },
  {
   "cell_type": "code",
   "execution_count": 10,
   "metadata": {},
   "outputs": [
    {
     "data": {
      "text/plain": [
       "[6, 1]"
      ]
     },
     "execution_count": 10,
     "metadata": {},
     "output_type": "execute_result"
    }
   ],
   "source": [
    "def mode(x):\n",
    "    counts = Counter(x)\n",
    "    max_count = max(counts.values())\n",
    "    list_of_max_values = []\n",
    "\n",
    "    for item, count in counts.items():\n",
    "        if count == max_count:\n",
    "            list_of_max_values.append(item)\n",
    "\n",
    "    return list_of_max_values\n",
    "\n",
    "\n",
    "mode(num_friends)"
   ]
  },
  {
   "cell_type": "markdown",
   "metadata": {},
   "source": [
    "### Dispersion"
   ]
  },
  {
   "cell_type": "code",
   "execution_count": 11,
   "metadata": {},
   "outputs": [
    {
     "data": {
      "text/plain": [
       "99.0"
      ]
     },
     "execution_count": 11,
     "metadata": {},
     "output_type": "execute_result"
    }
   ],
   "source": [
    "def data_range(x):\n",
    "    return max(x) - min(x)\n",
    "\n",
    "data_range(num_friends)"
   ]
  },
  {
   "cell_type": "code",
   "execution_count": 12,
   "metadata": {},
   "outputs": [],
   "source": [
    "# Not dispersion but we will use this\n",
    "\n",
    "def dot(v, w):\n",
    "    return sum(v_i * w_i\n",
    "               for v_i, w_i in zip(v,w))\n",
    "\n",
    "def sum_of_squares(v):\n",
    "    return dot(v,v)"
   ]
  },
  {
   "cell_type": "code",
   "execution_count": 13,
   "metadata": {},
   "outputs": [
    {
     "data": {
      "text/plain": [
       "81.54351395730716"
      ]
     },
     "execution_count": 13,
     "metadata": {},
     "output_type": "execute_result"
    }
   ],
   "source": [
    "# Menghitung jarak masing-masing data dengan mean\n",
    "def de_mean(x):\n",
    "    x_bar = mean(x)\n",
    "    # print(mean(x)) ingat tidak disorted\n",
    "    return [x_ - x_bar for x_ in x]\n",
    "\n",
    "# Mencari 'variance'\n",
    "def variance(x):\n",
    "    n = len(x)\n",
    "    deviations = de_mean(x)\n",
    "    return sum_of_squares(deviations) / ( n - 1 ) # Jangan lupa index mulai dari 0\n",
    "\n",
    "variance(num_friends)"
   ]
  },
  {
   "cell_type": "code",
   "execution_count": 14,
   "metadata": {},
   "outputs": [
    {
     "data": {
      "text/plain": [
       "[92.66666666666667,\n",
       " 41.666666666666664,\n",
       " 33.666666666666664,\n",
       " 32.666666666666664,\n",
       " 17.666666666666668,\n",
       " 13.666666666666668,\n",
       " 13.666666666666668,\n",
       " 11.666666666666668,\n",
       " 11.666666666666668,\n",
       " 10.666666666666668,\n",
       " 10.666666666666668,\n",
       " 8.666666666666668,\n",
       " 7.666666666666667,\n",
       " 7.666666666666667,\n",
       " 7.666666666666667,\n",
       " 7.666666666666667,\n",
       " 6.666666666666667,\n",
       " 6.666666666666667,\n",
       " 5.666666666666667,\n",
       " 5.666666666666667,\n",
       " 5.666666666666667,\n",
       " 5.666666666666667,\n",
       " 4.666666666666667,\n",
       " 4.666666666666667,\n",
       " 3.666666666666667,\n",
       " 2.666666666666667,\n",
       " 2.666666666666667,\n",
       " 2.666666666666667,\n",
       " 2.666666666666667,\n",
       " 2.666666666666667,\n",
       " 2.666666666666667,\n",
       " 2.666666666666667,\n",
       " 2.666666666666667,\n",
       " 2.666666666666667,\n",
       " 2.666666666666667,\n",
       " 2.666666666666667,\n",
       " 2.666666666666667,\n",
       " 2.666666666666667,\n",
       " 2.666666666666667,\n",
       " 2.666666666666667,\n",
       " 1.666666666666667,\n",
       " 1.666666666666667,\n",
       " 1.666666666666667,\n",
       " 1.666666666666667,\n",
       " 1.666666666666667,\n",
       " 1.666666666666667,\n",
       " 1.666666666666667,\n",
       " 1.666666666666667,\n",
       " 1.666666666666667,\n",
       " 1.666666666666667,\n",
       " 1.666666666666667,\n",
       " 1.666666666666667,\n",
       " 1.666666666666667,\n",
       " 1.666666666666667,\n",
       " 1.666666666666667,\n",
       " 1.666666666666667,\n",
       " 1.666666666666667,\n",
       " 1.666666666666667,\n",
       " 0.666666666666667,\n",
       " 0.666666666666667,\n",
       " 0.666666666666667,\n",
       " 0.666666666666667,\n",
       " 0.666666666666667,\n",
       " 0.666666666666667,\n",
       " 0.666666666666667,\n",
       " 0.666666666666667,\n",
       " 0.666666666666667,\n",
       " 0.666666666666667,\n",
       " 0.666666666666667,\n",
       " 0.666666666666667,\n",
       " 0.666666666666667,\n",
       " -0.33333333333333304,\n",
       " -0.33333333333333304,\n",
       " -0.33333333333333304,\n",
       " -0.33333333333333304,\n",
       " -0.33333333333333304,\n",
       " -0.33333333333333304,\n",
       " -0.33333333333333304,\n",
       " -0.33333333333333304,\n",
       " -0.33333333333333304,\n",
       " -0.33333333333333304,\n",
       " -0.33333333333333304,\n",
       " -0.33333333333333304,\n",
       " -0.33333333333333304,\n",
       " -0.33333333333333304,\n",
       " -0.33333333333333304,\n",
       " -1.333333333333333,\n",
       " -1.333333333333333,\n",
       " -1.333333333333333,\n",
       " -1.333333333333333,\n",
       " -1.333333333333333,\n",
       " -1.333333333333333,\n",
       " -1.333333333333333,\n",
       " -1.333333333333333,\n",
       " -1.333333333333333,\n",
       " -1.333333333333333,\n",
       " -1.333333333333333,\n",
       " -1.333333333333333,\n",
       " -1.333333333333333,\n",
       " -1.333333333333333,\n",
       " -1.333333333333333,\n",
       " -1.333333333333333,\n",
       " -1.333333333333333,\n",
       " -1.333333333333333,\n",
       " -1.333333333333333,\n",
       " -1.333333333333333,\n",
       " -1.333333333333333,\n",
       " -1.333333333333333,\n",
       " -2.333333333333333,\n",
       " -2.333333333333333,\n",
       " -2.333333333333333,\n",
       " -2.333333333333333,\n",
       " -2.333333333333333,\n",
       " -2.333333333333333,\n",
       " -2.333333333333333,\n",
       " -2.333333333333333,\n",
       " -2.333333333333333,\n",
       " -2.333333333333333,\n",
       " -2.333333333333333,\n",
       " -2.333333333333333,\n",
       " -2.333333333333333,\n",
       " -2.333333333333333,\n",
       " -2.333333333333333,\n",
       " -2.333333333333333,\n",
       " -2.333333333333333,\n",
       " -3.333333333333333,\n",
       " -3.333333333333333,\n",
       " -3.333333333333333,\n",
       " -3.333333333333333,\n",
       " -3.333333333333333,\n",
       " -3.333333333333333,\n",
       " -3.333333333333333,\n",
       " -3.333333333333333,\n",
       " -3.333333333333333,\n",
       " -3.333333333333333,\n",
       " -3.333333333333333,\n",
       " -3.333333333333333,\n",
       " -3.333333333333333,\n",
       " -3.333333333333333,\n",
       " -3.333333333333333,\n",
       " -3.333333333333333,\n",
       " -3.333333333333333,\n",
       " -3.333333333333333,\n",
       " -3.333333333333333,\n",
       " -3.333333333333333,\n",
       " -4.333333333333333,\n",
       " -4.333333333333333,\n",
       " -4.333333333333333,\n",
       " -4.333333333333333,\n",
       " -4.333333333333333,\n",
       " -4.333333333333333,\n",
       " -4.333333333333333,\n",
       " -4.333333333333333,\n",
       " -4.333333333333333,\n",
       " -4.333333333333333,\n",
       " -4.333333333333333,\n",
       " -4.333333333333333,\n",
       " -4.333333333333333,\n",
       " -4.333333333333333,\n",
       " -4.333333333333333,\n",
       " -4.333333333333333,\n",
       " -4.333333333333333,\n",
       " -4.333333333333333,\n",
       " -4.333333333333333,\n",
       " -4.333333333333333,\n",
       " -5.333333333333333,\n",
       " -5.333333333333333,\n",
       " -5.333333333333333,\n",
       " -5.333333333333333,\n",
       " -5.333333333333333,\n",
       " -5.333333333333333,\n",
       " -5.333333333333333,\n",
       " -5.333333333333333,\n",
       " -5.333333333333333,\n",
       " -5.333333333333333,\n",
       " -5.333333333333333,\n",
       " -5.333333333333333,\n",
       " -5.333333333333333,\n",
       " -5.333333333333333,\n",
       " -5.333333333333333,\n",
       " -5.333333333333333,\n",
       " -5.333333333333333,\n",
       " -6.333333333333333,\n",
       " -6.333333333333333,\n",
       " -6.333333333333333,\n",
       " -6.333333333333333,\n",
       " -6.333333333333333,\n",
       " -6.333333333333333,\n",
       " -6.333333333333333,\n",
       " -6.333333333333333,\n",
       " -6.333333333333333,\n",
       " -6.333333333333333,\n",
       " -6.333333333333333,\n",
       " -6.333333333333333,\n",
       " -6.333333333333333,\n",
       " -6.333333333333333,\n",
       " -6.333333333333333,\n",
       " -6.333333333333333,\n",
       " -6.333333333333333,\n",
       " -6.333333333333333,\n",
       " -6.333333333333333,\n",
       " -6.333333333333333,\n",
       " -6.333333333333333,\n",
       " -6.333333333333333]"
      ]
     },
     "execution_count": 14,
     "metadata": {},
     "output_type": "execute_result"
    }
   ],
   "source": [
    "de_mean(num_friends)"
   ]
  },
  {
   "cell_type": "code",
   "execution_count": 15,
   "metadata": {},
   "outputs": [
    {
     "data": {
      "text/plain": [
       "9.03014473623248"
      ]
     },
     "execution_count": 15,
     "metadata": {},
     "output_type": "execute_result"
    }
   ],
   "source": [
    "import math\n",
    "\n",
    "# Std deviation juga bisa dibilang rata-rata jarak antara nilai tengah dan masing-masing data\n",
    "def standard_deviation(x):\n",
    "    return math.sqrt(variance(x))\n",
    "\n",
    "standard_deviation(num_friends)"
   ]
  },
  {
   "cell_type": "code",
   "execution_count": 16,
   "metadata": {},
   "outputs": [
    {
     "data": {
      "text/plain": [
       "6"
      ]
     },
     "execution_count": 16,
     "metadata": {},
     "output_type": "execute_result"
    }
   ],
   "source": [
    "def interquartile_range(x):\n",
    "    return quantile(x, 0.75) - quantile(x, 0.25)\n",
    "\n",
    "interquartile_range(num_friends)"
   ]
  },
  {
   "cell_type": "markdown",
   "metadata": {},
   "source": [
    "### Correlation"
   ]
  },
  {
   "cell_type": "code",
   "execution_count": 17,
   "metadata": {},
   "outputs": [],
   "source": [
    "daily_minutes = [1,68.77,51.25,52.08,38.36,44.54,57.13,51.4,41.42,31.22,34.76,54.01,38.79,47.59,49.1,27.66,41.03,36.73,48.65,28.12,46.62,35.57,32.98,35,26.07,23.77,39.73,40.57,31.65,31.21,36.32,20.45,21.93,26.02,27.34,23.49,46.94,30.5,33.8,24.23,21.4,27.94,32.24,40.57,25.07,19.42,22.39,18.42,46.96,23.72,26.41,26.97,36.76,40.32,35.02,29.47,30.2,31,38.11,38.18,36.31,21.03,30.86,36.07,28.66,29.08,37.28,15.28,24.17,22.31,30.17,25.53,19.85,35.37,44.6,17.23,13.47,26.33,35.02,32.09,24.81,19.33,28.77,24.26,31.98,25.73,24.86,16.28,34.51,15.23,39.72,40.8,26.06,35.76,34.76,16.13,44.04,18.03,19.65,32.62,35.59,39.43,14.18,35.24,40.13,41.82,35.45,36.07,43.67,24.61,20.9,21.9,18.79,27.61,27.21,26.61,29.77,20.59,27.53,13.82,33.2,25,33.1,36.65,18.63,14.87,22.2,36.81,25.53,24.62,26.25,18.21,28.08,19.42,29.79,32.8,35.99,28.32,27.79,35.88,29.06,36.28,14.1,36.63,37.49,26.9,18.58,38.48,24.48,18.95,33.55,14.24,29.04,32.51,25.63,22.22,19,32.73,15.16,13.9,27.2,32.01,29.27,33,13.74,20.42,27.32,18.23,35.35,28.48,9.08,24.62,20.12,35.26,19.92,31.02,16.49,12.16,30.7,31.22,34.65,13.13,27.51,33.2,31.57,14.1,33.42,17.44,10.12,24.42,9.82,23.39,30.93,15.03,21.67,31.09,33.29,22.61,26.89,23.48,8.38,27.81,32.35,23.84]\n",
    "num_friends = [100.0,49,41,40,25,21,21,19,19,18,18,16,15,15,15,15,14,14,13,13,13,13,12,12,11,10,10,10,10,10,10,10,10,10,10,10,10,10,10,10,9,9,9,9,9,9,9,9,9,9,9,9,9,9,9,9,9,9,8,8,8,8,8,8,8,8,8,8,8,8,8,7,7,7,7,7,7,7,7,7,7,7,7,7,7,7,6,6,6,6,6,6,6,6,6,6,6,6,6,6,6,6,6,6,6,6,6,6,5,5,5,5,5,5,5,5,5,5,5,5,5,5,5,5,5,4,4,4,4,4,4,4,4,4,4,4,4,4,4,4,4,4,4,4,4,3,3,3,3,3,3,3,3,3,3,3,3,3,3,3,3,3,3,3,3,2,2,2,2,2,2,2,2,2,2,2,2,2,2,2,2,2,1,1,1,1,1,1,1,1,1,1,1,1,1,1,1,1,1,1,1,1,1,1]"
   ]
  },
  {
   "cell_type": "code",
   "execution_count": 18,
   "metadata": {},
   "outputs": [
    {
     "data": {
      "text/plain": [
       "22.425435139573064"
      ]
     },
     "execution_count": 18,
     "metadata": {},
     "output_type": "execute_result"
    }
   ],
   "source": [
    "def covariance(x, y):\n",
    "    # Bayagkan ini dua row dan memiliki length yang sama\n",
    "    n = len(x)\n",
    "    return dot(de_mean(x), de_mean(y)) / (n -1)\n",
    "\n",
    "covariance(num_friends, daily_minutes)"
   ]
  },
  {
   "cell_type": "code",
   "execution_count": 19,
   "metadata": {},
   "outputs": [
    {
     "data": {
      "text/plain": [
       "0.24736957366478218"
      ]
     },
     "execution_count": 19,
     "metadata": {},
     "output_type": "execute_result"
    }
   ],
   "source": [
    "def correlation(x, y):\n",
    "    stdev_x = standard_deviation(x)\n",
    "    stdev_y = standard_deviation(y)\n",
    "\n",
    "    if stdev_x > 0 and stdev_y > 0:\n",
    "        return covariance(x, y) / stdev_x /stdev_y\n",
    "    else:\n",
    "        print(\"No correlations\")\n",
    "        return 0\n",
    "    \n",
    "correlation(num_friends, daily_minutes) # 0.25 represent a weak positive correlation"
   ]
  },
  {
   "cell_type": "code",
   "execution_count": 20,
   "metadata": {},
   "outputs": [
    {
     "data": {
      "text/plain": [
       "(np.float64(0.0), np.float64(105.0), np.float64(0.0), np.float64(100.0))"
      ]
     },
     "execution_count": 20,
     "metadata": {},
     "output_type": "execute_result"
    },
    {
     "data": {
      "image/png": "[encoded data removed]",
      "text/plain": [
       "<Figure size 640x480 with 1 Axes>"
      ]
     },
     "metadata": {},
     "output_type": "display_data"
    }
   ],
   "source": [
    "# Visualization of the correlation\n",
    "from matplotlib import pyplot as pyplot\n",
    "\n",
    "plt.scatter(num_friends, daily_minutes)\n",
    "plt.axis([0, 105, 0, 100])"
   ]
  },
  {
   "cell_type": "markdown",
   "metadata": {},
   "source": [
    "Tapi kita lihat, terdapat outlier yang memiliki jumlah teman sangat banyak namun memiliki minutes sedikit. Aneh bukan?"
   ]
  },
  {
   "cell_type": "code",
   "execution_count": 32,
   "metadata": {},
   "outputs": [
    {
     "name": "stdout",
     "output_type": "stream",
     "text": [
      "[49, 41, 40, 25, 21, 21, 19, 19, 18, 18, 16, 15, 15, 15, 15, 14, 14, 13, 13, 13, 13, 12, 12, 11, 10, 10, 10, 10, 10, 10, 10, 10, 10, 10, 10, 10, 10, 10, 10, 9, 9, 9, 9, 9, 9, 9, 9, 9, 9, 9, 9, 9, 9, 9, 9, 9, 9, 8, 8, 8, 8, 8, 8, 8, 8, 8, 8, 8, 8, 8, 7, 7, 7, 7, 7, 7, 7, 7, 7, 7, 7, 7, 7, 7, 7, 6, 6, 6, 6, 6, 6, 6, 6, 6, 6, 6, 6, 6, 6, 6, 6, 6, 6, 6, 6, 6, 6, 5, 5, 5, 5, 5, 5, 5, 5, 5, 5, 5, 5, 5, 5, 5, 5, 5, 4, 4, 4, 4, 4, 4, 4, 4, 4, 4, 4, 4, 4, 4, 4, 4, 4, 4, 4, 4, 3, 3, 3, 3, 3, 3, 3, 3, 3, 3, 3, 3, 3, 3, 3, 3, 3, 3, 3, 3, 2, 2, 2, 2, 2, 2, 2, 2, 2, 2, 2, 2, 2, 2, 2, 2, 2, 1, 1, 1, 1, 1, 1, 1, 1, 1, 1, 1, 1, 1, 1, 1, 1, 1, 1, 1, 1, 1, 1] \n",
      " [68.77, 51.25, 52.08, 38.36, 44.54, 57.13, 51.4, 41.42, 31.22, 34.76, 54.01, 38.79, 47.59, 49.1, 27.66, 41.03, 36.73, 48.65, 28.12, 46.62, 35.57, 32.98, 35, 26.07, 23.77, 39.73, 40.57, 31.65, 31.21, 36.32, 20.45, 21.93, 26.02, 27.34, 23.49, 46.94, 30.5, 33.8, 24.23, 21.4, 27.94, 32.24, 40.57, 25.07, 19.42, 22.39, 18.42, 46.96, 23.72, 26.41, 26.97, 36.76, 40.32, 35.02, 29.47, 30.2, 31, 38.11, 38.18, 36.31, 21.03, 30.86, 36.07, 28.66, 29.08, 37.28, 15.28, 24.17, 22.31, 30.17, 25.53, 19.85, 35.37, 44.6, 17.23, 13.47, 26.33, 35.02, 32.09, 24.81, 19.33, 28.77, 24.26, 31.98, 25.73, 24.86, 16.28, 34.51, 15.23, 39.72, 40.8, 26.06, 35.76, 34.76, 16.13, 44.04, 18.03, 19.65, 32.62, 35.59, 39.43, 14.18, 35.24, 40.13, 41.82, 35.45, 36.07, 43.67, 24.61, 20.9, 21.9, 18.79, 27.61, 27.21, 26.61, 29.77, 20.59, 27.53, 13.82, 33.2, 25, 33.1, 36.65, 18.63, 14.87, 22.2, 36.81, 25.53, 24.62, 26.25, 18.21, 28.08, 19.42, 29.79, 32.8, 35.99, 28.32, 27.79, 35.88, 29.06, 36.28, 14.1, 36.63, 37.49, 26.9, 18.58, 38.48, 24.48, 18.95, 33.55, 14.24, 29.04, 32.51, 25.63, 22.22, 19, 32.73, 15.16, 13.9, 27.2, 32.01, 29.27, 33, 13.74, 20.42, 27.32, 18.23, 35.35, 28.48, 9.08, 24.62, 20.12, 35.26, 19.92, 31.02, 16.49, 12.16, 30.7, 31.22, 34.65, 13.13, 27.51, 33.2, 31.57, 14.1, 33.42, 17.44, 10.12, 24.42, 9.82, 23.39, 30.93, 15.03, 21.67, 31.09, 33.29, 22.61, 26.89, 23.48, 8.38, 27.81, 32.35, 23.84]\n"
     ]
    }
   ],
   "source": [
    "index_outlier = num_friends.index(100)\n",
    "\n",
    "num_friends_without_outlier = [x for i, x\n",
    "                               in enumerate(num_friends)\n",
    "                               if i != index_outlier]\n",
    "\n",
    "daily_minutes_without_outlier = [x for i, x\n",
    "                                 in enumerate(daily_minutes)\n",
    "                                 if i != index_outlier]\n",
    "\n",
    "print(num_friends_without_outlier, '\\n', daily_minutes_without_outlier)"
   ]
  },
  {
   "cell_type": "code",
   "execution_count": 33,
   "metadata": {},
   "outputs": [
    {
     "name": "stdout",
     "output_type": "stream",
     "text": [
      "0.5736792115665573\n"
     ]
    },
    {
     "data": {
      "text/plain": [
       "<matplotlib.collections.PathCollection at 0x7970dc911a20>"
      ]
     },
     "execution_count": 33,
     "metadata": {},
     "output_type": "execute_result"
    },
    {
     "data": {
      "image/png": "[encoded data removed]",
      "text/plain": [
       "<Figure size 640x480 with 1 Axes>"
      ]
     },
     "metadata": {},
     "output_type": "display_data"
    }
   ],
   "source": [
    "# Correlation without outliers\n",
    "\n",
    "without_outlier = correlation(num_friends_without_outlier, daily_minutes_without_outlier) # Whoa the correlation is 0.57!\n",
    "print(without_outlier)\n",
    "\n",
    "plt.scatter(num_friends_without_outlier, daily_minutes_without_outlier)"
   ]
  },
  {
   "cell_type": "markdown",
   "metadata": {},
   "source": [
    "### Simpson's Paradox (A quick paragraph)\n",
    "\n",
    "Simpson's paradox bisa merupakan suatu paradox ketika memisahkan 2 grup hasilnya bisa saja memperlihatkan hal yang berbeda ketika mereka digabung. Hal ini bisa dikarenakan suatu agregasi yang di segmentasi kurang tepat. (Penjelasan lanjut akan diupdate..)"
   ]
  },
  {
   "cell_type": "markdown",
   "metadata": {},
   "source": [
    "### Does Causation is Indicated by Correlation?\n",
    "\n",
    "Secara sederhana, korelasi belem tentu menjelaskan 'causation'. Randomized trials akan dapat membantu jika anda bisa mengubah variablenya slightly dan melihat ada perubahannya atau tidak di variabel lain."
   ]
  }
 ],
 "metadata": {
  "kernelspec": {
   "display_name": "venv",
   "language": "python",
   "name": "python3"
  },
  "language_info": {
   "codemirror_mode": {
    "name": "ipython",
    "version": 3
   },
   "file_extension": ".py",
   "mimetype": "text/x-python",
   "name": "python",
   "nbconvert_exporter": "python",
   "pygments_lexer": "ipython3",
   "version": "3.10.12"
  }
 },
 "nbformat": 4,
 "nbformat_minor": 2
}
