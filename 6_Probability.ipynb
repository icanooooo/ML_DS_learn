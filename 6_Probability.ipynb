{
 "cells": [
  {
   "cell_type": "markdown",
   "metadata": {
    "vscode": {
     "languageId": "plaintext"
    }
   },
   "source": [
    "# Probability\n",
    "\n",
    "P(E) = 'The Probabilty of Event E'"
   ]
  },
  {
   "cell_type": "markdown",
   "metadata": {
    "vscode": {
     "languageId": "plaintext"
    }
   },
   "source": [
    "$$\n",
    "P(E, F) = P(E)P(F)\n",
    "$$\n",
    "\n",
    "Secara matematis E dan F didefinisikan seperti diatas jika independen. Jika event E tidak ada efek denggan F.\n",
    "\n",
    "$$\n",
    "P(E|F) = P(E,F)/P(F)\n",
    "$$\n",
    "\n",
    "Jika tidak independen maka probabilitas E kondisional terhadap F. (Kemungkinan Macet Jika Hujan)\n",
    "\n",
    "Karena notasi kemungkinan kondisional diatas, maka kemungkinan terjadi bersamaan bisa dinotasikan seperti:\n",
    "\n",
    "$$\n",
    "P(E,F) = P(E|F)P(F)\n",
    "$$\n",
    "\n",
    "berdasarkan notasi diatas, Jika event independen maka dapat digambarkan seperti ini:\n",
    "\n",
    "$$\n",
    "P(E|F) = P(E)\n",
    "$$\n",
    "\n",
    "Menjelaskan bahwa even F tidak memberikan informasi apapun tentang even E."
   ]
  },
  {
   "cell_type": "code",
   "execution_count": 25,
   "metadata": {},
   "outputs": [
    {
     "name": "stdout",
     "output_type": "stream",
     "text": [
      "p(both|older): 0.4656964656964657\n",
      "p(both|either): 0.29906542056074764\n"
     ]
    },
    {
     "name": "stderr",
     "output_type": "stream",
     "text": [
      "/tmp/ipykernel_19779/1441969704.py:11: DeprecationWarning: Seeding based on hashing is deprecated\n",
      "since Python 3.9 and will be removed in a subsequent version. The only \n",
      "supported seed types are: None, int, float, str, bytes, and bytearray.\n",
      "  random.seed(datetime.datetime.now())\n"
     ]
    }
   ],
   "source": [
    "import random\n",
    "import datetime\n",
    "\n",
    "def random_kid():\n",
    "    return random.choice(['boy', 'girl'])\n",
    "\n",
    "both_girls = 0\n",
    "older_girl = 0\n",
    "either_girl = 0\n",
    "\n",
    "random.seed(datetime.datetime.now())\n",
    "for _x in range(1000):\n",
    "    younger = random_kid()\n",
    "    older = random_kid()\n",
    "    if older == 'girl':\n",
    "        older_girl += 1\n",
    "    if older == 'girl' and younger == 'girl':\n",
    "        both_girls += 1\n",
    "    if older == 'girl' or younger == 'girl':\n",
    "        either_girl += 1\n",
    "\n",
    "print(f\"p(both|older): {both_girls/older_girl}\")\n",
    "print(f\"p(both|either): {both_girls/either_girl}\")"
   ]
  },
  {
   "cell_type": "code",
   "execution_count": null,
   "metadata": {},
   "outputs": [],
   "source": []
  }
 ],
 "metadata": {
  "kernelspec": {
   "display_name": "venv",
   "language": "python",
   "name": "python3"
  },
  "language_info": {
   "codemirror_mode": {
    "name": "ipython",
    "version": 3
   },
   "file_extension": ".py",
   "mimetype": "text/x-python",
   "name": "python",
   "nbconvert_exporter": "python",
   "pygments_lexer": "ipython3",
   "version": "3.10.12"
  }
 },
 "nbformat": 4,
 "nbformat_minor": 2
}
