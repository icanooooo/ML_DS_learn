{
 "cells": [
  {
   "cell_type": "markdown",
   "metadata": {
    "vscode": {
     "languageId": "plaintext"
    }
   },
   "source": [
    "# Probability\n",
    "\n",
    "P(E) = 'The Probabilty of Event E'"
   ]
  },
  {
   "cell_type": "markdown",
   "metadata": {
    "vscode": {
     "languageId": "plaintext"
    }
   },
   "source": [
    "$$\n",
    "P(E, F) = P(E)P(F)\n",
    "$$\n",
    "Secara matematis E dan F didefinisikan seperti diatas jika independen. Jika event E tidak ada efek denggan F.\n",
    "$$\n",
    "P(E|F) = P(E,F)/P(F)\n",
    "$$\n",
    "Jika tidak independen maka probabilitas E kondisional terhadap F. (Kemungkinan Macet Jika Hujan)\n",
    "\n",
    "Karena notasi kemungkinan kondisional diatas, maka kemungkinan terjadi bersamaan bisa dinotasikan seperti:\n",
    "$$\n",
    "P(E,F) = P(E|F)P(F)\n",
    "$$\n",
    "berdasarkan notasi diatas, Jika event independen maka dapat digambarkan seperti ini:\n",
    "$$\n",
    "P(E|F) = P(E)\n",
    "$$\n",
    "Menjelaskan bahwa even F tidak memberikan informasi apapun tentang even E."
   ]
  },
  {
   "cell_type": "code",
   "execution_count": 25,
   "metadata": {},
   "outputs": [
    {
     "name": "stdout",
     "output_type": "stream",
     "text": [
      "p(both|older): 0.4656964656964657\n",
      "p(both|either): 0.29906542056074764\n"
     ]
    },
    {
     "name": "stderr",
     "output_type": "stream",
     "text": [
      "/tmp/ipykernel_19779/1441969704.py:11: DeprecationWarning: Seeding based on hashing is deprecated\n",
      "since Python 3.9 and will be removed in a subsequent version. The only \n",
      "supported seed types are: None, int, float, str, bytes, and bytearray.\n",
      "  random.seed(datetime.datetime.now())\n"
     ]
    }
   ],
   "source": [
    "import random\n",
    "import datetime\n",
    "\n",
    "def random_kid():\n",
    "    return random.choice(['boy', 'girl'])\n",
    "\n",
    "both_girls = 0\n",
    "older_girl = 0\n",
    "either_girl = 0\n",
    "\n",
    "random.seed(datetime.datetime.now())\n",
    "for _x in range(1000):\n",
    "    younger = random_kid()\n",
    "    older = random_kid()\n",
    "    if older == 'girl':\n",
    "        older_girl += 1\n",
    "    if older == 'girl' and younger == 'girl':\n",
    "        both_girls += 1\n",
    "    if older == 'girl' or younger == 'girl':\n",
    "        either_girl += 1\n",
    "\n",
    "print(f\"p(both|older): {both_girls/older_girl}\")\n",
    "print(f\"p(both|either): {both_girls/either_girl}\")"
   ]
  },
  {
   "cell_type": "markdown",
   "metadata": {},
   "source": [
    "### Bayes Theorem\n",
    "\n",
    "Bayangkan kita perlu untuk mencari tahu probabilitas event E terhadap F, namun kita hanya memiliki probabilitas F terhadap E dan masing2 probabilitas.\n",
    "\n",
    "untuk mendapatkan hasil kita bisa mencari melalui:\n",
    "\n",
    "$$\n",
    "P(E|F) = \\frac{P(E,F)}{P(F)}\n",
    "$$\n",
    "Jika kita mengingat formula dibawah:\n",
    "$$\n",
    "P(E, F) = P(F|E)P(E)\n",
    "$$\n",
    "bayes theorem bisa dijelaskan secara sederhana sebagai notasi dibawah.\n",
    "$$\n",
    "P(E|F)=\\frac{P(F|E)P(E)}{P(F)}\n",
    "$$\n",
    "Namun jika kita tidak mengetahui nilai P(F) kita juga dapat menggunakan formula dibawah:\n",
    "$$\n",
    "P(F) = P(F,E) + P (F, ¬E)\n",
    "$$\n",
    "Dengan ¬E sebagai Even E tidak terjadi. Kita bisa menggunakannya ke dalam bayes theorem menjadi\n",
    "$$\n",
    "P(E|F) = \\frac{P(F|E)P(E)}{[P(F|E)P(E)] + P(F|¬E)P(¬E)}\n",
    "$$\n",
    "\n",
    "Membingunkan? memang?\n",
    "\n",
    "Perhatikan contoh dibawah, bayangkan jika suatu penyakit menginfeksi 1 dari 10000 orang (P(D)/_pd). Lalu dibuat suatu test yang dimana tingkat keberhasilan tes tersebut adalah 99% (jika memang terinfeksi), (P(TD),_ptd). Maka berapa jumlah presentase seseorang terinfeksi jika di tes?\n"
   ]
  },
  {
   "cell_type": "code",
   "execution_count": 28,
   "metadata": {},
   "outputs": [
    {
     "name": "stdout",
     "output_type": "stream",
     "text": [
      "0.009812667261373774\n"
     ]
    }
   ],
   "source": [
    "_ptd = 0.99 # chance of Someone who have the disease and tested postive\n",
    "_pt_d = 0.01 # chance of Somene who have the disease and tested negative\n",
    "_pd = 0.0001 # chance of Someone who have the disease\n",
    "_p_d = 0.999 # chance of someone who doesn't\n",
    "\n",
    "_pdt = _ptd * _pd / ((_ptd*_pd)+ (_pt_d*_p_d))\n",
    "print(_pdt) #chance of someone who tested and are having the disease (positive)"
   ]
  },
  {
   "cell_type": "code",
   "execution_count": null,
   "metadata": {},
   "outputs": [],
   "source": []
  },
  {
   "cell_type": "markdown",
   "metadata": {},
   "source": [
    "Memang hasilnya sangat minim ya dibawah 1% orang akan tes positif."
   ]
  }
 ],
 "metadata": {
  "kernelspec": {
   "display_name": "venv",
   "language": "python",
   "name": "python3"
  },
  "language_info": {
   "codemirror_mode": {
    "name": "ipython",
    "version": 3
   },
   "file_extension": ".py",
   "mimetype": "text/x-python",
   "name": "python",
   "nbconvert_exporter": "python",
   "pygments_lexer": "ipython3",
   "version": "3.10.12"
  }
 },
 "nbformat": 4,
 "nbformat_minor": 2
}
