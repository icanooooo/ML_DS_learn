{
 "cells": [
  {
   "cell_type": "markdown",
   "metadata": {},
   "source": [
    "# Vectors"
   ]
  },
  {
   "cell_type": "code",
   "execution_count": 6,
   "metadata": {},
   "outputs": [
    {
     "name": "stdout",
     "output_type": "stream",
     "text": [
      "[165, 250, 115]\n",
      "[-25, 90, -35]\n"
     ]
    }
   ],
   "source": [
    "height_weight_age = [70,\n",
    "                     170,\n",
    "                     40]\n",
    "\n",
    "grades = [95,\n",
    "          80,\n",
    "          75]\n",
    "\n",
    "# pembuatan operasi vector\n",
    "def vector_add(v,w):\n",
    "    answer = [v_i + w_i\n",
    "              for v_i, w_i in zip(v,w)]\n",
    "    return answer\n",
    "\n",
    "def vector_min(v,w):\n",
    "    answer = [v_i - w_i\n",
    "              for v_i, w_i in zip(v,w)]\n",
    "    \n",
    "    return answer\n",
    "\n",
    "print(vector_add(height_weight_age, grades))\n",
    "print(vector_min(height_weight_age, grades))"
   ]
  },
  {
   "cell_type": "code",
   "execution_count": 4,
   "metadata": {},
   "outputs": [
    {
     "data": {
      "text/plain": [
       "[72, 172, 42]"
      ]
     },
     "execution_count": 4,
     "metadata": {},
     "output_type": "execute_result"
    }
   ],
   "source": [
    "test = [x+2 for x in height_weight_age] # Intermezo pembuatan list looping dalam function"
   ]
  },
  {
   "cell_type": "code",
   "execution_count": 10,
   "metadata": {},
   "outputs": [
    {
     "data": {
      "text/plain": [
       "[177, 283, 170]"
      ]
     },
     "execution_count": 10,
     "metadata": {},
     "output_type": "execute_result"
    }
   ],
   "source": [
    "\n",
    "\n",
    "points = [12, 33, 55]\n",
    "\n",
    "def vector_sum(vectors):\n",
    "    result = vectors[0]\n",
    "    for vector in vectors[1:]:\n",
    "        result = vector_add(result, vector)\n",
    "    return result\n",
    "\n",
    "vector_sum([grades, height_weight_age, points])"
   ]
  },
  {
   "cell_type": "code",
   "execution_count": 12,
   "metadata": {},
   "outputs": [
    {
     "data": {
      "text/plain": [
       "[177, 283, 170]"
      ]
     },
     "execution_count": 12,
     "metadata": {},
     "output_type": "execute_result"
    }
   ],
   "source": [
    "from functools import reduce\n",
    "\n",
    "def new_vector_sum(vectors):\n",
    "    return reduce(vector_add, vectors)\n",
    "\n",
    "new_vector_sum([grades, height_weight_age, points])"
   ]
  },
  {
   "cell_type": "code",
   "execution_count": 13,
   "metadata": {},
   "outputs": [
    {
     "name": "stdout",
     "output_type": "stream",
     "text": [
      "[60, 165, 275]\n"
     ]
    }
   ],
   "source": [
    "# multiply vector with scalar\n",
    "\n",
    "def scalar_multiply(c, v):\n",
    "    return [c * v_i for v_i in v]\n",
    "\n",
    "print(scalar_multiply(5, points)) # Scalar c, Vector v"
   ]
  },
  {
   "cell_type": "code",
   "execution_count": 15,
   "metadata": {},
   "outputs": [
    {
     "data": {
      "text/plain": [
       "[59.0, 94.33333333333333, 56.666666666666664]"
      ]
     },
     "execution_count": 15,
     "metadata": {},
     "output_type": "execute_result"
    }
   ],
   "source": [
    "def vector_mean(vectors):\n",
    "    n = len(vectors)\n",
    "    answer = scalar_multiply(1/n, vector_sum(vectors))\n",
    "\n",
    "    return answer\n",
    "\n",
    "vector_mean([grades, height_weight_age, points])"
   ]
  },
  {
   "cell_type": "code",
   "execution_count": 18,
   "metadata": {},
   "outputs": [
    {
     "name": "stdout",
     "output_type": "stream",
     "text": [
      "7905\n"
     ]
    }
   ],
   "source": [
    "def dot(v, w):\n",
    "    return sum(v_i * w_i\n",
    "               for v_i, w_i in zip(v,w))\n",
    "\n",
    "print(dot(grades, points))"
   ]
  },
  {
   "cell_type": "markdown",
   "metadata": {},
   "source": [
    "Dot product mengkalkulasi seberapa jauh antara vector v dengan vector dengan vector w. Seberapa besar vector v jika diproyeksi dengan vektor w."
   ]
  },
  {
   "cell_type": "code",
   "execution_count": 19,
   "metadata": {},
   "outputs": [
    {
     "data": {
      "text/plain": [
       "21050"
      ]
     },
     "execution_count": 19,
     "metadata": {},
     "output_type": "execute_result"
    }
   ],
   "source": [
    "def sum_of_squares(v):\n",
    "    return dot(v,v)"
   ]
  },
  {
   "cell_type": "code",
   "execution_count": 20,
   "metadata": {},
   "outputs": [
    {
     "data": {
      "text/plain": [
       "145.08618128546908"
      ]
     },
     "execution_count": 20,
     "metadata": {},
     "output_type": "execute_result"
    }
   ],
   "source": [
    "import math\n",
    "\n",
    "def magintude(v):\n",
    "    return math.sqrt(sum_of_squares(v))\n",
    "\n",
    "magintude(grades)"
   ]
  },
  {
   "cell_type": "code",
   "execution_count": 21,
   "metadata": {},
   "outputs": [
    {
     "data": {
      "text/plain": [
       "9498"
      ]
     },
     "execution_count": 21,
     "metadata": {},
     "output_type": "execute_result"
    }
   ],
   "source": [
    "def squared_distance(v, w):\n",
    "    return sum_of_squares(vector_min(v,w))\n",
    "\n",
    "squared_distance(grades, points)"
   ]
  },
  {
   "cell_type": "code",
   "execution_count": 22,
   "metadata": {},
   "outputs": [
    {
     "data": {
      "text/plain": [
       "97.45768312452333"
      ]
     },
     "execution_count": 22,
     "metadata": {},
     "output_type": "execute_result"
    }
   ],
   "source": [
    "def distance(v, w):\n",
    "    return math.sqrt(squared_distance(v, w))\n",
    "\n",
    "distance(grades, points)"
   ]
  },
  {
   "cell_type": "code",
   "execution_count": 24,
   "metadata": {},
   "outputs": [
    {
     "data": {
      "text/plain": [
       "97.45768312452333"
      ]
     },
     "execution_count": 24,
     "metadata": {},
     "output_type": "execute_result"
    }
   ],
   "source": [
    "def all_new_distance(v, w):\n",
    "    return magintude(vector_min(v, w))\n",
    "\n",
    "all_new_distance(grades, points)"
   ]
  },
  {
   "cell_type": "markdown",
   "metadata": {},
   "source": [
    "# Matrices"
   ]
  },
  {
   "cell_type": "code",
   "execution_count": 26,
   "metadata": {},
   "outputs": [],
   "source": [
    "A = [[1, 2, 3], # has 2 rows, 3 columns\n",
    "     [4, 5, 6]]\n",
    "\n",
    "B = ([1, 2], # has 3 rows, 2 columns\n",
    "     [3, 4],\n",
    "     [5, 6])"
   ]
  },
  {
   "cell_type": "code",
   "execution_count": 28,
   "metadata": {},
   "outputs": [
    {
     "name": "stdout",
     "output_type": "stream",
     "text": [
      "(2, 3)\n",
      "(3, 2)\n"
     ]
    }
   ],
   "source": [
    "def shape(matrice):\n",
    "    num_rows = len(matrice)\n",
    "    num_cols = len(matrice[0] if matrice else 0)\n",
    "    return num_rows, num_cols\n",
    "\n",
    "print(shape(A))\n",
    "print(shape(B))"
   ]
  },
  {
   "cell_type": "code",
   "execution_count": 32,
   "metadata": {},
   "outputs": [
    {
     "data": {
      "text/plain": [
       "[2, 4, 6]"
      ]
     },
     "execution_count": 32,
     "metadata": {},
     "output_type": "execute_result"
    }
   ],
   "source": [
    "def get_row(A, i):\n",
    "    return A[i]\n",
    "\n",
    "def get_column(A, j):\n",
    "    answer = [x[j] for x in A]\n",
    "\n",
    "    return answer\n",
    "\n",
    "get_column(B, 1)"
   ]
  },
  {
   "cell_type": "code",
   "execution_count": 34,
   "metadata": {},
   "outputs": [
    {
     "data": {
      "text/plain": [
       "[[1, 0, 0, 0, 0],\n",
       " [0, 1, 0, 0, 0],\n",
       " [0, 0, 1, 0, 0],\n",
       " [0, 0, 0, 1, 0],\n",
       " [0, 0, 0, 0, 1]]"
      ]
     },
     "execution_count": 34,
     "metadata": {},
     "output_type": "execute_result"
    }
   ],
   "source": [
    "def make_matrix(num_rows, num_cols, entry_fn):\n",
    "    return [[entry_fn(i, j)\n",
    "             for j in range(num_cols)]\n",
    "             for i in range(num_rows)]\n",
    "\n",
    "def is_diagonal(i, j):\n",
    "    return 1 if i == j else 0\n",
    "\n",
    "identity_matrix = make_matrix(5, 5, is_diagonal) # Creating an identity matrix"
   ]
  },
  {
   "cell_type": "markdown",
   "metadata": {},
   "source": [
    "## How Matrices is Important"
   ]
  },
  {
   "cell_type": "code",
   "execution_count": 39,
   "metadata": {},
   "outputs": [],
   "source": [
    "# 1. To help us contain data\n",
    "\n",
    "height_weight_ages = [[183, 114, 25],\n",
    "                      [157, 44, 23],\n",
    "                      [165, 51, 26],\n",
    "                        # dan seterusnya....                      \n",
    "                      ]\n",
    "\n",
    "# matrix diatas mengukur tinggi berat dan umur"
   ]
  },
  {
   "cell_type": "code",
   "execution_count": 43,
   "metadata": {},
   "outputs": [],
   "source": [
    "# 2. Binary Relationships\n",
    "\n",
    "friendships = [(0, 1), (0, 2), (1, 2), (1, 3), (2, 3), (3, 4), (4, 5)]\n",
    "\n",
    "friendships_matrix = [[0, 1, 1, 0, 0, 0],\n",
    "                      [1, 0, 1, 1, 0, 0],\n",
    "                      [1, 1, 0, 1, 0, 0],\n",
    "                      [0, 1, 1, 0, 1, 0],\n",
    "                      [0, 0, 0, 1, 0, 1],\n",
    "                      [0, 0, 0, 0, 1, 0]]"
   ]
  },
  {
   "cell_type": "code",
   "execution_count": 44,
   "metadata": {},
   "outputs": [
    {
     "name": "stdout",
     "output_type": "stream",
     "text": [
      "True\n",
      "False\n"
     ]
    }
   ],
   "source": [
    "# dari melihat 1 di friendship kita bisa melihatnya dengan\n",
    "\n",
    "print(friendships_matrix[0][1] == 1) # Jika satu maka '0' dan '1' temenan 'true'\n",
    "print(friendships_matrix[5][3] == 1) # 5 dan 3 tidak temenan"
   ]
  },
  {
   "cell_type": "code",
   "execution_count": 48,
   "metadata": {},
   "outputs": [
    {
     "data": {
      "text/plain": [
       "[0, 1, 3]"
      ]
     },
     "execution_count": 48,
     "metadata": {},
     "output_type": "execute_result"
    }
   ],
   "source": [
    "# kita juga bisa mengkompilasi semuanya dengan seperti contoh dibawah\n",
    "\n",
    "friends_of_three = [i for i, is_friend in enumerate(friendships_matrix[2]) if is_friend]\n",
    "# hanya menyimpan index yang memiliki 1 dalam valuenya\n",
    "friends_of_three"
   ]
  }
 ],
 "metadata": {
  "kernelspec": {
   "display_name": "venv",
   "language": "python",
   "name": "python3"
  },
  "language_info": {
   "codemirror_mode": {
    "name": "ipython",
    "version": 3
   },
   "file_extension": ".py",
   "mimetype": "text/x-python",
   "name": "python",
   "nbconvert_exporter": "python",
   "pygments_lexer": "ipython3",
   "version": "3.10.12"
  }
 },
 "nbformat": 4,
 "nbformat_minor": 2
}
